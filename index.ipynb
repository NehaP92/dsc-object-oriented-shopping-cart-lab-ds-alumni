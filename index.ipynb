{
 "cells": [
  {
   "cell_type": "markdown",
   "metadata": {},
   "source": [
    "# Object Oriented Shopping Cart - Lab"
   ]
  },
  {
   "cell_type": "markdown",
   "metadata": {},
   "source": [
    "## Introduction\n",
    "In this lab, you'll be mimicking the functionality of a shopping cart with your knowledge of object-oriented programming in Python. Your shopping cart will be able to add items of different quantities and prices to the cart, calculate discounts, keep track of what items have been added, and void transactions."
   ]
  },
  {
   "cell_type": "markdown",
   "metadata": {},
   "source": [
    "## Objectives\n",
    "\n",
    "You will be able to:\n",
    "\n",
    "* Define and call an instance method\n",
    "* Define and access instance attributes\n",
    "* Call instance methods inside of other instance methods\n",
    "* Create methods that calculate statistics of the attributes of an object\n",
    "* Create a domain model using OOP"
   ]
  },
  {
   "cell_type": "markdown",
   "metadata": {},
   "source": [
    "## Instructions"
   ]
  },
  {
   "cell_type": "markdown",
   "metadata": {},
   "source": [
    "In this lab, you'll practice your object orientated programming skills by modifying the **shopping_cart.py** file.\n",
    "\n",
    "To start, you'll once again set this notebook to `autoreload` packages so that when you update **shopping_cart.py**, you can experiment with the effects here. Remember that while the package will be reloaded, you will need to reinitialize your class instance. Here's an example to get you started:"
   ]
  },
  {
   "cell_type": "code",
   "execution_count": 1,
   "metadata": {
    "ExecuteTime": {
     "end_time": "2021-06-14T20:59:16.570564Z",
     "start_time": "2021-06-14T20:59:16.522293Z"
    }
   },
   "outputs": [],
   "source": [
    "%load_ext autoreload\n",
    "%autoreload 2"
   ]
  },
  {
   "cell_type": "code",
   "execution_count": 2,
   "metadata": {
    "ExecuteTime": {
     "end_time": "2021-06-14T20:59:18.930780Z",
     "start_time": "2021-06-14T20:59:18.883936Z"
    }
   },
   "outputs": [],
   "source": [
    "# Import your custom package\n",
    "from shopping_cart import ShoppingCart"
   ]
  },
  {
   "cell_type": "code",
   "execution_count": 23,
   "metadata": {
    "ExecuteTime": {
     "end_time": "2021-06-14T21:26:04.019662Z",
     "start_time": "2021-06-14T21:26:03.938825Z"
    }
   },
   "outputs": [],
   "source": [
    "# Initialize an instance of our shopping cart class\n",
    "shopping_cart = ShoppingCart()"
   ]
  },
  {
   "cell_type": "markdown",
   "metadata": {},
   "source": [
    "## Add an Initialization Behavior to the `ShoppingCart()` class\n",
    "\n",
    "Update your **shopping_cart.py** file to include an `__init__` method. This should define three default attributes: `total`, which should be set to 0; `employee_discount`, set to `None`; and `items`, set to a blank list. The line of code below should work and produce the previewed output once you do this."
   ]
  },
  {
   "cell_type": "code",
   "execution_count": 24,
   "metadata": {
    "ExecuteTime": {
     "end_time": "2021-06-14T21:26:04.969448Z",
     "start_time": "2021-06-14T21:26:04.926563Z"
    }
   },
   "outputs": [
    {
     "name": "stdout",
     "output_type": "stream",
     "text": [
      "0\n",
      "None\n",
      "[]\n"
     ]
    }
   ],
   "source": [
    "# Add a line to reinitialize an instance of the class\n",
    "shopping_cart = ShoppingCart() \n",
    "print(shopping_cart.total)\n",
    "print(shopping_cart.employee_discount)\n",
    "print(shopping_cart.items)"
   ]
  },
  {
   "cell_type": "markdown",
   "metadata": {},
   "source": [
    "## Add an `add_item()` method \n",
    "\n",
    "Define an instance method called `.add_item()` that will add an item to our cart. It should take in the name of an item, its price, and an optional quantity. The method should increase the shopping cart's total by the appropriate amount and return the new total for the shopping cart. \n",
    "\n",
    "> **Hint:** think about how you would like to keep this information in your list of items. Can we imagine wanting to ever check the price of an individual item after we've added it to our cart? What data type do we know of that can associate the item name with its price?"
   ]
  },
  {
   "cell_type": "code",
   "execution_count": 25,
   "metadata": {
    "ExecuteTime": {
     "end_time": "2021-06-14T21:26:06.419844Z",
     "start_time": "2021-06-14T21:26:06.378949Z"
    }
   },
   "outputs": [
    {
     "data": {
      "text/plain": [
       "45.99"
      ]
     },
     "execution_count": 25,
     "metadata": {},
     "output_type": "execute_result"
    }
   ],
   "source": [
    "shopping_cart.add_item(\"rainbow sandals\", 45.99) # 45.99"
   ]
  },
  {
   "cell_type": "code",
   "execution_count": 26,
   "metadata": {
    "ExecuteTime": {
     "end_time": "2021-06-14T21:26:07.026657Z",
     "start_time": "2021-06-14T21:26:06.977789Z"
    }
   },
   "outputs": [
    {
     "data": {
      "text/plain": [
       "56.49"
      ]
     },
     "execution_count": 26,
     "metadata": {},
     "output_type": "execute_result"
    }
   ],
   "source": [
    "shopping_cart.add_item(\"agyle socks\", 10.50) # 56.49"
   ]
  },
  {
   "cell_type": "code",
   "execution_count": 27,
   "metadata": {
    "ExecuteTime": {
     "end_time": "2021-06-14T21:26:07.473663Z",
     "start_time": "2021-06-14T21:26:07.431779Z"
    }
   },
   "outputs": [
    {
     "data": {
      "text/plain": [
       "206.49"
      ]
     },
     "execution_count": 27,
     "metadata": {},
     "output_type": "execute_result"
    }
   ],
   "source": [
    "shopping_cart.add_item(\"jeans\", 50.00, 3) # 206.49"
   ]
  },
  {
   "cell_type": "markdown",
   "metadata": {},
   "source": [
    "## Add Summary Methods `mean_item_price()` and `median_item_price()` \n",
    "\n",
    "Define two more instance methods: `.mean_item_price()` and `.median_item_price()`, which should return the average price per item and the median price of the items in your cart, respectively. \n",
    "\n",
    "> **Remember:** the mean is the average price per item and to find the median we must do three things: \n",
    "\n",
    "* First, put all numbers in our list in ascending order (smallest to greatest)\n",
    "* Then check to see if there is an odd number of elements in our list. If so, the middle number is the median\n",
    "* Finally, if there is an even number of elements in the list, the median will be the average or mean of the two center elements (e.g. given the list `[1, 2, 3, 4]` the elements 2 and 3 are the two center elements and the median would be (2 + 3)/2 or 2.5)  "
   ]
  },
  {
   "cell_type": "code",
   "execution_count": 28,
   "metadata": {
    "ExecuteTime": {
     "end_time": "2021-06-14T21:26:09.517213Z",
     "start_time": "2021-06-14T21:26:09.475325Z"
    }
   },
   "outputs": [
    {
     "data": {
      "text/plain": [
       "41.298"
      ]
     },
     "execution_count": 28,
     "metadata": {},
     "output_type": "execute_result"
    }
   ],
   "source": [
    "shopping_cart.mean_item_price() # 41.29"
   ]
  },
  {
   "cell_type": "code",
   "execution_count": 31,
   "metadata": {
    "ExecuteTime": {
     "end_time": "2021-06-14T21:32:38.773978Z",
     "start_time": "2021-06-14T21:32:38.726075Z"
    }
   },
   "outputs": [
    {
     "data": {
      "text/plain": [
       "[45.99, 10.5, 50.0, 50.0, 50.0]"
      ]
     },
     "execution_count": 31,
     "metadata": {},
     "output_type": "execute_result"
    }
   ],
   "source": [
    "shopping_cart.items"
   ]
  },
  {
   "cell_type": "code",
   "execution_count": 33,
   "metadata": {
    "ExecuteTime": {
     "end_time": "2021-06-14T21:33:36.320103Z",
     "start_time": "2021-06-14T21:33:36.280212Z"
    }
   },
   "outputs": [
    {
     "data": {
      "text/plain": [
       "5"
      ]
     },
     "execution_count": 33,
     "metadata": {},
     "output_type": "execute_result"
    }
   ],
   "source": [
    "len(shopping_cart.items)"
   ]
  },
  {
   "cell_type": "code",
   "execution_count": 34,
   "metadata": {
    "ExecuteTime": {
     "end_time": "2021-06-14T21:33:57.653606Z",
     "start_time": "2021-06-14T21:33:57.609755Z"
    }
   },
   "outputs": [
    {
     "data": {
      "text/plain": [
       "3.0"
      ]
     },
     "execution_count": 34,
     "metadata": {},
     "output_type": "execute_result"
    }
   ],
   "source": [
    "(len(shopping_cart.items)/2)+0.5"
   ]
  },
  {
   "cell_type": "code",
   "execution_count": 35,
   "metadata": {
    "ExecuteTime": {
     "end_time": "2021-06-14T21:34:16.736696Z",
     "start_time": "2021-06-14T21:34:16.640994Z"
    },
    "scrolled": true
   },
   "outputs": [
    {
     "data": {
      "text/plain": [
       "50.0"
      ]
     },
     "execution_count": 35,
     "metadata": {},
     "output_type": "execute_result"
    }
   ],
   "source": [
    "shopping_cart.median_item_price() # 50.00"
   ]
  },
  {
   "cell_type": "markdown",
   "metadata": {},
   "source": [
    "## Add an `apply_discount()` method \n",
    "\n",
    "Now, define an instance method called `.apply_discount()` that applies a discount if one is provided and returns the discounted total. For example, if you initialize a new shopping cart with a discount of 20% then our total should be discounted in the amount of 20%. So, if our total were $ \\$100 $, after the discount you only would owe $ \\$80 $.\n",
    "\n",
    "If our shopping cart does not have an employee discount, then it should return a string saying: `\"Sorry, there is no discount to apply to your cart :(\"`"
   ]
  },
  {
   "cell_type": "code",
   "execution_count": 40,
   "metadata": {
    "ExecuteTime": {
     "end_time": "2021-06-14T21:41:00.923798Z",
     "start_time": "2021-06-14T21:41:00.818060Z"
    }
   },
   "outputs": [
    {
     "name": "stdout",
     "output_type": "stream",
     "text": [
      "45.0\n",
      "60.0\n",
      "48.0\n",
      "1048.0\n",
      "838.4\n",
      "Sorry, there is no discount to apply to your cart :(\n",
      "None\n"
     ]
    }
   ],
   "source": [
    "discount_shopping_cart = ShoppingCart(employee_discount = 20)\n",
    "print(discount_shopping_cart.add_item(\"rainbow sandals\", 45.00)) # 45.00\n",
    "print(discount_shopping_cart.add_item(\"agyle socks\", 15.00)) # 60.00\n",
    "print(discount_shopping_cart.apply_discount()) # 48.00\n",
    "print(discount_shopping_cart.add_item(\"macbook air\", 1000.00)) # 1060.00\n",
    "print(discount_shopping_cart.apply_discount()) # 848.00\n",
    "print(shopping_cart.apply_discount()) # Sorry, there is no discount to apply to your cart :("
   ]
  },
  {
   "cell_type": "markdown",
   "metadata": {},
   "source": [
    "## Add a `void_last_item()` method"
   ]
  },
  {
   "cell_type": "markdown",
   "metadata": {},
   "source": [
    "Finally, you are missing one piece of functionality. What if someone just accidentally added something to their cart or decided that this item is too expensive for their budget? Define a method called `void_last_item()` that removes the last item from the shopping cart and updates its total.  If there are no items in the shopping cart, `void_last_item()` should return `\"There are no items in your cart!\"`."
   ]
  },
  {
   "cell_type": "code",
   "execution_count": 42,
   "metadata": {
    "ExecuteTime": {
     "end_time": "2021-06-14T21:43:03.688633Z",
     "start_time": "2021-06-14T21:43:03.573939Z"
    }
   },
   "outputs": [
    {
     "data": {
      "text/plain": [
       "156.49"
      ]
     },
     "execution_count": 42,
     "metadata": {},
     "output_type": "execute_result"
    }
   ],
   "source": [
    "shopping_cart.void_last_item()\n",
    "shopping_cart.total # 156.49"
   ]
  },
  {
   "cell_type": "markdown",
   "metadata": {},
   "source": [
    "## Summary\n",
    "In this lab, you practiced using instance methods to mimic the functionality of a shopping cart as well as defined methods that give you the mean and median prices of all the items in the cart. "
   ]
  }
 ],
 "metadata": {
  "kernelspec": {
   "display_name": "Python 3",
   "language": "python",
   "name": "python3"
  },
  "language_info": {
   "codemirror_mode": {
    "name": "ipython",
    "version": 3
   },
   "file_extension": ".py",
   "mimetype": "text/x-python",
   "name": "python",
   "nbconvert_exporter": "python",
   "pygments_lexer": "ipython3",
   "version": "3.6.9"
  },
  "toc": {
   "base_numbering": 1,
   "nav_menu": {},
   "number_sections": true,
   "sideBar": true,
   "skip_h1_title": false,
   "title_cell": "Table of Contents",
   "title_sidebar": "Contents",
   "toc_cell": false,
   "toc_position": {},
   "toc_section_display": true,
   "toc_window_display": false
  }
 },
 "nbformat": 4,
 "nbformat_minor": 2
}
